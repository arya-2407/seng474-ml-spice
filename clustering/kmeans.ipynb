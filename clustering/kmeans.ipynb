{
 "cells": [
  {
   "cell_type": "code",
   "execution_count": 1,
   "metadata": {},
   "outputs": [],
   "source": [
    "import pandas as pd\n",
    "import numpy as np\n",
    "from sklearn.feature_extraction.text import TfidfVectorizer\n",
    "from sklearn.cluster import KMeans"
   ]
  },
  {
   "cell_type": "code",
   "execution_count": 3,
   "metadata": {},
   "outputs": [
    {
     "name": "stdout",
     "output_type": "stream",
     "text": [
      "Dataset shape: (893040, 13)\n",
      "Number of unique users: 113741\n",
      "Number of unique products: 28113\n"
     ]
    }
   ],
   "source": [
    "df = pd.read_parquet('amazon_reviews_for_tfidf.parquet')\n",
    "\n",
    "# Display basic information\n",
    "print(f\"Dataset shape: {df.shape}\")\n",
    "print(f\"Number of unique users: {df['user_id'].nunique()}\")\n",
    "print(f\"Number of unique products: {df['product_id'].nunique()}\")"
   ]
  },
  {
   "cell_type": "markdown",
   "metadata": {},
   "source": [
    "Aggreagate reviews by product_id"
   ]
  },
  {
   "cell_type": "code",
   "execution_count": 5,
   "metadata": {},
   "outputs": [
    {
     "name": "stdout",
     "output_type": "stream",
     "text": [
      "Aggregated dataset shape: (28113, 2)\n"
     ]
    }
   ],
   "source": [
    "product_df = df.groupby('product_id').agg({\n",
    "        'processed_text': lambda x: ' '.join(x),\n",
    "    }).reset_index()\n",
    "    \n",
    "print(f\"Aggregated dataset shape: {product_df.shape}\")"
   ]
  },
  {
   "cell_type": "markdown",
   "metadata": {},
   "source": [
    "TF-IDF vectorizer"
   ]
  },
  {
   "cell_type": "code",
   "execution_count": 6,
   "metadata": {},
   "outputs": [],
   "source": [
    "vectorizer = TfidfVectorizer(\n",
    "        max_features=5000,\n",
    "        stop_words='english',\n",
    "        ngram_range=(1,1),\n",
    "        min_df=5,\n",
    "        max_df=0.5\n",
    "    )\n",
    "# Fit and transform the processed text\n",
    "X_tfidf = vectorizer.fit_transform(product_df['processed_text'])"
   ]
  },
  {
   "cell_type": "code",
   "execution_count": 7,
   "metadata": {},
   "outputs": [
    {
     "name": "stdout",
     "output_type": "stream",
     "text": [
      "TF-IDF matrix shape: (28113, 5000)\n"
     ]
    }
   ],
   "source": [
    "print(f\"TF-IDF matrix shape: {X_tfidf.shape}\")"
   ]
  },
  {
   "cell_type": "code",
   "execution_count": 8,
   "metadata": {},
   "outputs": [],
   "source": [
    "k = 10 #found using elbow method with inertia\n",
    "# Create and fit the K-means model\n",
    "kmeans = KMeans(n_clusters=k, random_state=42, n_init=10)\n",
    "clusters = kmeans.fit_predict(X_tfidf)\n",
    "\n",
    "# Add cluster labels to the dataframe\n",
    "product_df['cluster'] = clusters"
   ]
  },
  {
   "cell_type": "code",
   "execution_count": 9,
   "metadata": {},
   "outputs": [
    {
     "name": "stdout",
     "output_type": "stream",
     "text": [
      "\n",
      "Cluster distribution:\n",
      "cluster\n",
      "0      751\n",
      "1     1359\n",
      "2      673\n",
      "3     1384\n",
      "4     6861\n",
      "5    11094\n",
      "6     1351\n",
      "7      931\n",
      "8      824\n",
      "9     2885\n",
      "Name: count, dtype: int64\n"
     ]
    }
   ],
   "source": [
    "cluster_counts = product_df['cluster'].value_counts().sort_index()\n",
    "print(\"\\nCluster distribution:\")\n",
    "print(cluster_counts)"
   ]
  },
  {
   "cell_type": "code",
   "execution_count": 12,
   "metadata": {},
   "outputs": [],
   "source": [
    "def get_top_terms_per_cluster(kmeans_model, feature_names, n_terms=10):\n",
    "    \"\"\"Get the top n terms for each cluster based on the cluster centers.\"\"\"\n",
    "    top_terms = {}\n",
    "    for i, center in enumerate(kmeans_model.cluster_centers_):\n",
    "        # Get the indices of the top n features for this cluster\n",
    "        top_indices = center.argsort()[-n_terms:][::-1]\n",
    "        # Get the feature names for these indices\n",
    "        top_features = [feature_names[idx] for idx in top_indices]\n",
    "        top_terms[i] = top_features\n",
    "    return top_terms"
   ]
  },
  {
   "cell_type": "code",
   "execution_count": 14,
   "metadata": {},
   "outputs": [],
   "source": [
    "feature_names = vectorizer.get_feature_names_out()"
   ]
  },
  {
   "cell_type": "code",
   "execution_count": 15,
   "metadata": {},
   "outputs": [
    {
     "name": "stdout",
     "output_type": "stream",
     "text": [
      "\n",
      "Top 10 terms for each cluster:\n",
      "\n",
      "Cluster 0: 751 products\n",
      "Top terms: ds, xl, case, stylu, fit, charger, nintendo, screen, protect, protector\n",
      "--------------------------------------------------------------------------------\n",
      "\n",
      "Cluster 1: 1359 products\n",
      "Top terms: headset, sound, headphon, mic, ear, comfort, microphon, volum, audio, hear\n",
      "--------------------------------------------------------------------------------\n",
      "\n",
      "Cluster 2: 673 products\n",
      "Top terms: race, car, wheel, track, drive, racer, graphic, kart, speed, mode\n",
      "--------------------------------------------------------------------------------\n",
      "\n",
      "Cluster 3: 1384 products\n",
      "Top terms: case, switch, fit, protect, dock, protector, hold, carri, grip, lite\n",
      "--------------------------------------------------------------------------------\n",
      "\n",
      "Cluster 4: 6861 products\n",
      "Top terms: stori, charact, graphic, level, enemi, puzzl, fight, enjoy, gameplay, weapon\n",
      "--------------------------------------------------------------------------------\n",
      "\n",
      "Cluster 5: 11094 products\n",
      "Top terms: ps, wii, xbox, cabl, kid, consol, card, graphic, version, fit\n",
      "--------------------------------------------------------------------------------\n",
      "\n",
      "Cluster 6: 1351 products\n",
      "Top terms: charg, batteri, charger, cabl, usb, ps, dock, plug, cord, switch\n",
      "--------------------------------------------------------------------------------\n",
      "\n",
      "Cluster 7: 931 products\n",
      "Top terms: keyboard, key, light, switch, keycap, mechan, rgb, type, mous, board\n",
      "--------------------------------------------------------------------------------\n",
      "\n",
      "Cluster 8: 824 products\n",
      "Top terms: mous, button, dpi, mice, light, softwar, click, hand, pad, razer\n",
      "--------------------------------------------------------------------------------\n",
      "\n",
      "Cluster 9: 2885 products\n",
      "Top terms: button, stick, grip, switch, xbox, joystick, fit, ps, pad, hand\n",
      "--------------------------------------------------------------------------------\n"
     ]
    }
   ],
   "source": [
    "print(\"\\nTop 10 terms for each cluster:\")\n",
    "top_terms = get_top_terms_per_cluster(kmeans, feature_names, n_terms=10)\n",
    "\n",
    "# Print top terms for each cluster\n",
    "for cluster_id, terms in top_terms.items():\n",
    "    cluster_size = cluster_counts[cluster_id]\n",
    "    print(f\"\\nCluster {cluster_id}: {cluster_size} products\")\n",
    "    print(f\"Top terms: {', '.join(terms)}\")\n",
    "    print(\"-\" * 80)"
   ]
  },
  {
   "cell_type": "code",
   "execution_count": null,
   "metadata": {},
   "outputs": [],
   "source": []
  }
 ],
 "metadata": {
  "kernelspec": {
   "display_name": "base",
   "language": "python",
   "name": "python3"
  },
  "language_info": {
   "codemirror_mode": {
    "name": "ipython",
    "version": 3
   },
   "file_extension": ".py",
   "mimetype": "text/x-python",
   "name": "python",
   "nbconvert_exporter": "python",
   "pygments_lexer": "ipython3",
   "version": "3.12.4"
  }
 },
 "nbformat": 4,
 "nbformat_minor": 2
}
