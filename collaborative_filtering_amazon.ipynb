{
 "cells": [
  {
   "cell_type": "code",
   "execution_count": 1,
   "metadata": {},
   "outputs": [],
   "source": [
    "import pandas as pd\n",
    "import numpy as np\n",
    "import matplotlib.pyplot as plt\n",
    "\n",
    "import keras\n",
    "from keras import layers\n",
    "from keras import ops\n",
    "\n",
    "import datasets\n",
    "datasets.logging.set_verbosity_error()"
   ]
  },
  {
   "cell_type": "code",
   "execution_count": 2,
   "metadata": {},
   "outputs": [
    {
     "data": {
      "application/vnd.jupyter.widget-view+json": {
       "model_id": "b10f7f1afe324a0fb615f95c10bfce7a",
       "version_major": 2,
       "version_minor": 0
      },
      "text/plain": [
       "Musical_Instruments.csv:   0%|          | 0.00/29.7M [00:00<?, ?B/s]"
      ]
     },
     "metadata": {},
     "output_type": "display_data"
    },
    {
     "name": "stderr",
     "output_type": "stream",
     "text": [
      "c:\\Users\\n8tew\\anaconda3\\Lib\\site-packages\\huggingface_hub\\file_download.py:142: UserWarning: `huggingface_hub` cache-system uses symlinks by default to efficiently store duplicated files but your machine does not support them in C:\\Users\\n8tew\\.cache\\huggingface\\hub\\datasets--McAuley-Lab--Amazon-Reviews-2023. Caching files will still work but in a degraded version that might require more space on your disk. This warning can be disabled by setting the `HF_HUB_DISABLE_SYMLINKS_WARNING` environment variable. For more details, see https://huggingface.co/docs/huggingface_hub/how-to-cache#limitations.\n",
      "To support symlinks on Windows, you either need to activate Developer Mode or to run Python as an administrator. In order to activate developer mode, see this article: https://docs.microsoft.com/en-us/windows/apps/get-started/enable-your-device-for-development\n",
      "  warnings.warn(message)\n"
     ]
    },
    {
     "data": {
      "application/vnd.jupyter.widget-view+json": {
       "model_id": "b5d09e4a06d345ff8216bc713218bd22",
       "version_major": 2,
       "version_minor": 0
      },
      "text/plain": [
       "Generating full split: 0 examples [00:00, ? examples/s]"
      ]
     },
     "metadata": {},
     "output_type": "display_data"
    }
   ],
   "source": [
    "AVAILABLE_CATEGORIES = [\n",
    "    'All_Beauty',\n",
    "    'Arts_Crafts_and_Sewing',\n",
    "    'Automotive',\n",
    "    'Baby_Products',\n",
    "    'Beauty_and_Personal_Care',\n",
    "    'Books',\n",
    "    'CDs_and_Vinyl',\n",
    "    'Cell_Phones_and_Accessories',\n",
    "    'Clothing_Shoes_and_Jewelry',\n",
    "    'Electronics',\n",
    "    'Gift_Cards',\n",
    "    'Grocery_and_Gourmet_Food',\n",
    "    'Health_and_Household',\n",
    "    'Home_and_Kitchen',\n",
    "    'Industrial_and_Scientific',\n",
    "    'Kindle_Store',\n",
    "    'Magazine_Subscriptions',\n",
    "    'Movies_and_TV',\n",
    "    'Musical_Instruments',\n",
    "    'Office_Products',\n",
    "    'Patio_Lawn_and_Garden',\n",
    "    'Pet_Supplies',\n",
    "    'Software',\n",
    "    'Sports_and_Outdoors',\n",
    "    'Tools_and_Home_Improvement',\n",
    "    'Toys_and_Games',\n",
    "    'Unknown',\n",
    "    'Video_Games'\n",
    "]\n",
    "\n",
    "SELECTED_CATEGORY = 'Musical_Instruments'\n",
    "\n",
    "# Use 5-core preprocessing to filter out connections with <5 interactions\n",
    "TRIM_SPARSE_CONNECTIONS = True\n",
    "\n",
    "dataset = datasets.load_dataset(\"McAuley-Lab/Amazon-Reviews-2023\", (\"5core_rating_only_\" if TRIM_SPARSE_CONNECTIONS else \"0core_timestamp_\") + SELECTED_CATEGORY, trust_remote_code=True)\n",
    "df = dataset['full'].to_pandas()"
   ]
  },
  {
   "cell_type": "code",
   "execution_count": 3,
   "metadata": {},
   "outputs": [
    {
     "name": "stdout",
     "output_type": "stream",
     "text": [
      "Number of users: 57439, Number of Products: 24587, Number of Reviews: 511836, Min rating: 1.0, Max rating: 5.0\n",
      "Mean reviews per user: 8.910949006772402\n",
      "Mean reviews per product: 20.817342498068086\n"
     ]
    }
   ],
   "source": [
    "# Creating user and product ID maps\n",
    "user_ids = df['user_id'].unique().tolist()\n",
    "user2user_encoded = {x: i for i, x in enumerate(user_ids)}\n",
    "userencoded2user = {i: x for i, x in enumerate(user_ids)}\n",
    "\n",
    "product_ids = df['parent_asin'].unique().tolist()\n",
    "product2product_encoded = {x: i for i, x in enumerate(product_ids)}\n",
    "productencoded2product = {i: x for i, x in enumerate(product_ids)}\n",
    "\n",
    "df[\"user\"] = df[\"user_id\"].map(user2user_encoded)\n",
    "df[\"product\"] = df[\"parent_asin\"].map(product2product_encoded)\n",
    "\n",
    "# Statistical summary of data\n",
    "num_users = len(user_ids)\n",
    "num_products = len(product_ids)\n",
    "num_reviews = len(df)\n",
    "df[\"rating\"] = df[\"rating\"].values.astype(np.float32)\n",
    "min_rating = min(df[\"rating\"])\n",
    "max_rating = max(df[\"rating\"])\n",
    "\n",
    "print(\n",
    "    \"Number of users: {}, Number of Products: {}, Number of Reviews: {}, Min rating: {}, Max rating: {}\".format(\n",
    "        num_users, num_products, num_reviews, min_rating, max_rating\n",
    "    )\n",
    ")\n",
    "\n",
    "print(f'Mean reviews per user: {num_reviews/num_users}')\n",
    "print(f'Mean reviews per product: {num_reviews/num_products}')"
   ]
  },
  {
   "cell_type": "code",
   "execution_count": 4,
   "metadata": {},
   "outputs": [],
   "source": [
    "df = df.sample(frac=1, random_state=0)\n",
    "x = df[[\"user\", \"product\"]].values\n",
    "\n",
    "# Normalize the targets between 0 and 1. Makes it easy to train.\n",
    "y = df[\"rating\"].apply(lambda x: (x - min_rating) / (max_rating - min_rating)).values\n",
    "\n",
    "# Assuming training on 90% of the data and validating on 10%.\n",
    "train_indices = int(0.9 * df.shape[0])\n",
    "x_train, x_val, y_train, y_val = (\n",
    "    x[:train_indices],\n",
    "    x[train_indices:],\n",
    "    y[:train_indices],\n",
    "    y[train_indices:],\n",
    ")"
   ]
  },
  {
   "cell_type": "code",
   "execution_count": 5,
   "metadata": {},
   "outputs": [],
   "source": [
    "EMBEDDING_SIZE = 50\n",
    "\n",
    "\n",
    "class RecommenderNet(keras.Model):\n",
    "    def __init__(self, num_users, num_products, embedding_size, **kwargs):\n",
    "        super().__init__(**kwargs)\n",
    "        self.num_users = num_users\n",
    "        self.num_products = num_products\n",
    "        self.embedding_size = embedding_size\n",
    "        self.user_embedding = layers.Embedding(\n",
    "            num_users,\n",
    "            embedding_size,\n",
    "            embeddings_initializer=\"he_normal\",\n",
    "            embeddings_regularizer=keras.regularizers.l2(1e-6),\n",
    "        )\n",
    "        self.user_bias = layers.Embedding(num_users, 1)\n",
    "        self.product_embedding = layers.Embedding(\n",
    "            num_products,\n",
    "            embedding_size,\n",
    "            embeddings_initializer=\"he_normal\",\n",
    "            embeddings_regularizer=keras.regularizers.l2(1e-6),\n",
    "        )\n",
    "        self.product_bias = layers.Embedding(num_products, 1)\n",
    "\n",
    "    def call(self, inputs):\n",
    "        user_vector = self.user_embedding(inputs[:, 0])\n",
    "        user_bias = self.user_bias(inputs[:, 0])\n",
    "        product_vector = self.product_embedding(inputs[:, 1])\n",
    "        product_bias = self.product_bias(inputs[:, 1])\n",
    "        dot_user_product = ops.tensordot(user_vector, product_vector, 2)\n",
    "        # Add all the components (including bias)\n",
    "        x = dot_user_product + user_bias + product_bias\n",
    "        # The sigmoid activation forces the rating to between 0 and 1\n",
    "        return ops.nn.sigmoid(x)\n",
    "\n",
    "\n",
    "model = RecommenderNet(num_users, num_products, EMBEDDING_SIZE)\n",
    "model.compile(\n",
    "    loss=keras.losses.BinaryCrossentropy(),\n",
    "    optimizer=keras.optimizers.Adam(learning_rate=0.001),\n",
    ")"
   ]
  },
  {
   "cell_type": "code",
   "execution_count": 6,
   "metadata": {},
   "outputs": [
    {
     "name": "stdout",
     "output_type": "stream",
     "text": [
      "Epoch 1/5\n",
      "\u001b[1m7198/7198\u001b[0m \u001b[32m━━━━━━━━━━━━━━━━━━━━\u001b[0m\u001b[37m\u001b[0m \u001b[1m136s\u001b[0m 19ms/step - loss: 0.5844 - val_loss: 0.4152\n",
      "Epoch 2/5\n",
      "\u001b[1m7198/7198\u001b[0m \u001b[32m━━━━━━━━━━━━━━━━━━━━\u001b[0m\u001b[37m\u001b[0m \u001b[1m126s\u001b[0m 17ms/step - loss: 0.4122 - val_loss: 0.4494\n",
      "Epoch 3/5\n",
      "\u001b[1m7198/7198\u001b[0m \u001b[32m━━━━━━━━━━━━━━━━━━━━\u001b[0m\u001b[37m\u001b[0m \u001b[1m123s\u001b[0m 17ms/step - loss: 0.4143 - val_loss: 0.4456\n",
      "Epoch 4/5\n",
      "\u001b[1m7198/7198\u001b[0m \u001b[32m━━━━━━━━━━━━━━━━━━━━\u001b[0m\u001b[37m\u001b[0m \u001b[1m124s\u001b[0m 17ms/step - loss: 0.4235 - val_loss: 0.4616\n",
      "Epoch 5/5\n",
      "\u001b[1m7198/7198\u001b[0m \u001b[32m━━━━━━━━━━━━━━━━━━━━\u001b[0m\u001b[37m\u001b[0m \u001b[1m124s\u001b[0m 17ms/step - loss: 0.4442 - val_loss: 0.4513\n"
     ]
    }
   ],
   "source": [
    "history = model.fit(\n",
    "    x=x_train,\n",
    "    y=y_train,\n",
    "    batch_size=64,\n",
    "    epochs=5,\n",
    "    verbose=1,\n",
    "    validation_data=(x_val, y_val),\n",
    ")"
   ]
  },
  {
   "cell_type": "code",
   "execution_count": 7,
   "metadata": {},
   "outputs": [
    {
     "data": {
      "image/png": "[encoded data removed]",
      "text/plain": [
       "<Figure size 640x480 with 1 Axes>"
      ]
     },
     "metadata": {},
     "output_type": "display_data"
    }
   ],
   "source": [
    "plt.plot(history.history[\"loss\"])\n",
    "plt.plot(history.history[\"val_loss\"])\n",
    "plt.title(\"model loss\")\n",
    "plt.ylabel(\"loss\")\n",
    "plt.xlabel(\"epoch\")\n",
    "plt.legend([\"train\", \"test\"], loc=\"upper left\")\n",
    "plt.show()"
   ]
  },
  {
   "cell_type": "code",
   "execution_count": 26,
   "metadata": {},
   "outputs": [
    {
     "name": "stdout",
     "output_type": "stream",
     "text": [
      "\u001b[1m769/769\u001b[0m \u001b[32m━━━━━━━━━━━━━━━━━━━━\u001b[0m\u001b[37m\u001b[0m \u001b[1m1s\u001b[0m 934us/step\n",
      "Showing recommendations for user: AFPPJJ7QKNTD774OBNGBWSGWZ2QQ\n",
      "====================================\n",
      "Products with high ratings from user\n",
      "--------------------------------\n",
      "Shure BETA56A Super Cardioid Swivel-Mount Dynamic Microphone with High Output Neodymium Element for Vocal/Instrument Applications, Gray\n",
      "Shure Super 55 Deluxe Vocal Microphone - Vintage Supercardioid Dynamic Unidyne Mic, Iconic Look, Classic Sound - Rugged Die-Cast Casing, includes 5/8\" to 3/8\" Thread Adapter and Zippered, Padded Pouch\n",
      "Tascam Portacapture X8 High Resolution 32-bit float Multi-Track Recorder, Portable Recorder, Field Recorder, Music, Podcast, Voice, ASMR, Podcasting\n",
      "LCT 040 Match Small Diaphragm Condenser Microphone\n",
      "TRITON AUDIO FetHead Phantom In-Line Microphone Preamp\n",
      "--------------------------------\n",
      "Top 10 product recommendations\n",
      "--------------------------------\n",
      "Shure SM7B Vocal Dynamic Microphone for Broadcast, Podcast & Recording, XLR Studio Mic for Music & Speech, Wide-Range Frequency, Warm & Smooth Sound, Rugged Construction, Detachable Windscreen - Black\n",
      "Evans Genera HD Dry Snare Drum Head, 13” (White)– Coated Drum Head Made Using Two Plies of Film –Overtone Ring Controls Sustain – Small Vent Holes Eliminate Stray Harmonics –Great for Live and Studio\n",
      "GLS Audio 12ft Mic Cable Patch Cords - XLR Male to XLR Female Black Cables - 12' Balanced Mike Snake Cord - 6 Pack\n",
      "GLS Audio Instrument Cable - Amp Cord for Bass & Electric Guitar - Straight to Right Angle 1/4 Inch Instrument Cable - Black/Grey Braided Tweed, 10ft\n",
      "Cable Matters 6.35mm (1/4 Inch) TRS to XLR Cable 15 ft Male to Male (XLR to TRS Cable, XLR to 1/4 Cable, 1/4 to XLR Cable)\n",
      "GLS Audio Speaker Cable 1/4\" to 1/4\" - 12 AWG Professional Bass/Guitar Speaker Cable for Amp - Black, 50 Ft.\n",
      "Gavitt Guitar Wire Cloth-Covered Vintage-Style Pushback - 22awg 7-Strand Tinned - 20 feet (10 ft Black, 10 ft White)\n",
      "Rico Cork Grease, Box of 12 tubes - RCRKGR12\n",
      "Gibraltar SC-CMBAC Medium Cymbal Boom Attachment Clamp\n",
      "Peterson StroboStomp HD | Guitar and Bass Pedal board Strobe Tuner\n"
     ]
    }
   ],
   "source": [
    "# Metadata on products. Includes titles, subcategories, etc.\n",
    "meta = datasets.load_dataset(\"McAuley-Lab/Amazon-Reviews-2023\", \"raw_meta_\" + SELECTED_CATEGORY, split=\"full\", trust_remote_code=True)\n",
    "meta_df = meta.to_pandas()\n",
    "\n",
    "# Select a random user and find all unseen products\n",
    "user_id = df.user_id.sample(1).iloc[0]\n",
    "user_activity = df[df.user_id == user_id]\n",
    "products_not_reviewed = meta_df[~meta_df['parent_asin'].isin(user_activity.parent_asin.values)]['parent_asin']\n",
    "products_not_reviewed = list(set(products_not_reviewed).intersection(set(product2product_encoded.keys()))) # Only consider products within our encoding\n",
    "products_not_reviewed = [[product2product_encoded.get(x)] for x in products_not_reviewed]\n",
    "user_encoder = user2user_encoded.get(user_id)\n",
    "\n",
    "# Feed these unseen products into the recommender model and find the highest predicted ratings\n",
    "user_product_array = np.hstack(\n",
    "    ([[user_encoder]] * len(products_not_reviewed), products_not_reviewed)\n",
    ")\n",
    "ratings = model.predict(user_product_array).flatten()\n",
    "top_ratings_indices = ratings.argsort()[-10:][::-1]\n",
    "recommended_product_ids = [productencoded2product.get(products_not_reviewed[x][0]) for x in top_ratings_indices]\n",
    "\n",
    "print(\"Showing recommendations for user: {}\".format(user_id))\n",
    "print(\"====\" * 9)\n",
    "print(\"Products with high ratings from user\")\n",
    "print(\"----\" * 8)\n",
    "top_products_user = (\n",
    "    user_activity.sort_values(by=\"rating\", ascending=False)\n",
    "    .head(5)\n",
    "    .parent_asin.values\n",
    ")\n",
    "meta_df_rows = meta_df[meta_df[\"parent_asin\"].isin(top_products_user)]\n",
    "for row in meta_df_rows.itertuples():\n",
    "    print(row.title)\n",
    "\n",
    "print(\"----\" * 8)\n",
    "print(\"Top 10 product recommendations\")\n",
    "print(\"----\" * 8)\n",
    "recommended_products = meta_df[meta_df[\"parent_asin\"].isin(recommended_product_ids)]\n",
    "for row in recommended_products.itertuples():\n",
    "    print(row.title)"
   ]
  }
 ],
 "metadata": {
  "kernelspec": {
   "display_name": "base",
   "language": "python",
   "name": "python3"
  },
  "language_info": {
   "codemirror_mode": {
    "name": "ipython",
    "version": 3
   },
   "file_extension": ".py",
   "mimetype": "text/x-python",
   "name": "python",
   "nbconvert_exporter": "python",
   "pygments_lexer": "ipython3",
   "version": "3.11.7"
  }
 },
 "nbformat": 4,
 "nbformat_minor": 2
}
