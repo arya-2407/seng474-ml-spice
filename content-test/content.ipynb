{
 "cells": [
  {
   "cell_type": "code",
   "execution_count": 1,
   "metadata": {},
   "outputs": [],
   "source": [
    "import pandas as pd\n",
    "ratings = pd.read_csv(\"ml-100k/u.data\", sep='\\t', names=['user_id', 'item_id', 'rating', 'timestamp'])"
   ]
  },
  {
   "cell_type": "code",
   "execution_count": 2,
   "metadata": {},
   "outputs": [
    {
     "name": "stdout",
     "output_type": "stream",
     "text": [
      "   item_id              title\n",
      "0        1   Toy Story (1995)\n",
      "1        2   GoldenEye (1995)\n",
      "2        3  Four Rooms (1995)\n",
      "3        4  Get Shorty (1995)\n",
      "4        5     Copycat (1995)\n"
     ]
    }
   ],
   "source": [
    "movie_columns = ['item_id', 'title', 'release_date', 'video_release_date', 'IMDb_URL'] + \\\n",
    "                ['unknown', 'Action', 'Adventure', 'Animation', 'Children', 'Comedy', 'Crime', \n",
    "                 'Documentary', 'Drama', 'Fantasy', 'Film-Noir', 'Horror', 'Musical', 'Mystery', \n",
    "                 'Romance', 'Sci-Fi', 'Thriller', 'War', 'Western']\n",
    "\n",
    "movies = pd.read_csv(\"ml-100k/u.item\", sep='|', encoding='latin-1', names=movie_columns, usecols=['item_id', 'title'])\n",
    "print(movies.head())"
   ]
  },
  {
   "cell_type": "code",
   "execution_count": 3,
   "metadata": {},
   "outputs": [
    {
     "name": "stdout",
     "output_type": "stream",
     "text": [
      "   item_id              title  unknown  Action  Adventure  Animation  \\\n",
      "0        1   Toy Story (1995)        0       0          0          1   \n",
      "1        2   GoldenEye (1995)        0       1          1          0   \n",
      "2        3  Four Rooms (1995)        0       0          0          0   \n",
      "3        4  Get Shorty (1995)        0       1          0          0   \n",
      "4        5     Copycat (1995)        0       0          0          0   \n",
      "\n",
      "   Children  Comedy  Crime  Documentary  ...  Fantasy  Film-Noir  Horror  \\\n",
      "0         1       1      0            0  ...        0          0       0   \n",
      "1         0       0      0            0  ...        0          0       0   \n",
      "2         0       0      0            0  ...        0          0       0   \n",
      "3         0       1      0            0  ...        0          0       0   \n",
      "4         0       0      1            0  ...        0          0       0   \n",
      "\n",
      "   Musical  Mystery  Romance  Sci-Fi  Thriller  War  Western  \n",
      "0        0        0        0       0         0    0        0  \n",
      "1        0        0        0       0         1    0        0  \n",
      "2        0        0        0       0         1    0        0  \n",
      "3        0        0        0       0         0    0        0  \n",
      "4        0        0        0       0         1    0        0  \n",
      "\n",
      "[5 rows x 21 columns]\n"
     ]
    }
   ],
   "source": [
    "# Load movies with genres\n",
    "movies = pd.read_csv(\"ml-100k/u.item\", sep='|', encoding='latin-1', names=movie_columns, usecols=[0, 1] + list(range(5, 24)))\n",
    "print(movies.head())\n"
   ]
  },
  {
   "cell_type": "code",
   "execution_count": 4,
   "metadata": {},
   "outputs": [
    {
     "name": "stdout",
     "output_type": "stream",
     "text": [
      "(1682, 1682)\n"
     ]
    }
   ],
   "source": [
    "from sklearn.metrics.pairwise import cosine_similarity\n",
    "\n",
    "genre_features = movies.iloc[:, 2:].values  # Only genre columns\n",
    "\n",
    "# Compute cosine similarity between movies\n",
    "similarity_matrix = cosine_similarity(genre_features)\n",
    "\n",
    "print(similarity_matrix.shape)  # Should be (1682, 1682) since we have 1682 movies\n"
   ]
  },
  {
   "cell_type": "code",
   "execution_count": null,
   "metadata": {},
   "outputs": [
    {
     "name": "stdout",
     "output_type": "stream",
     "text": [
      "['Aladdin and the King of Thieves (1996)', 'Aladdin (1992)', 'Goofy Movie, A (1995)', 'Santa Clause, The (1994)', 'Home Alone (1990)']\n"
     ]
    }
   ],
   "source": [
    "def recommend_movies(movie_title, movies_df, similarity_matrix, top_n=5):\n",
    "    \"\"\"Recommend movies similar to a given movie based on cosine similarity.\"\"\"\n",
    "    idx = movies_df.index[movies_df['title'] == movie_title].tolist()\n",
    "    \n",
    "    if not idx:\n",
    "        return f\"Movie '{movie_title}' not found!\"\n",
    "    \n",
    "    idx = idx[0]  # Get the first matching index\n",
    "    \n",
    "    # Get similarity scores for this movie\n",
    "    sim_scores = list(enumerate(similarity_matrix[idx]))\n",
    "\n",
    "    # Sort by similarity (excluding the movie itself)\n",
    "    sim_scores = sorted(sim_scores, key=lambda x: x[1], reverse=True)[1:top_n+1]\n",
    "\n",
    "    # Get recommended movie titles\n",
    "    recommended_movies = [movies_df.iloc[i[0]]['title'] for i in sim_scores]\n",
    "    \n",
    "    return recommended_movies\n",
    "\n",
    "# Test recommendations with Toy Story\n",
    "print(recommend_movies(\"Toy Story (1995)\", movies, similarity_matrix))"
   ]
  },
  {
   "cell_type": "markdown",
   "metadata": {},
   "source": [
    "Testing 10 random movies"
   ]
  },
  {
   "cell_type": "code",
   "execution_count": 19,
   "metadata": {},
   "outputs": [
    {
     "name": "stdout",
     "output_type": "stream",
     "text": [
      "Testing : Cool Hand Luke (1967)\n",
      "['Eat Drink Man Woman (1994)', 'Ed Wood (1994)', \"What's Eating Gilbert Grape (1993)\", 'Welcome to the Dollhouse (1995)', 'Swingers (1996)']\n",
      "=====================================================\n",
      "Testing : Eye of Vichy, The (Oeil de Vichy, L') (1993)\n",
      "['Hoop Dreams (1994)', 'Brother Minister: The Assassination of Malcolm X (1994)', 'Haunted World of Edward D. Wood Jr., The (1995)', 'Maya Lin: A Strong Clear Vision (1994)', 'Paradise Lost: The Child Murders at Robin Hood Hills (1996)']\n",
      "=====================================================\n",
      "Testing : Beauty and the Beast (1991)\n",
      "['Snow White and the Seven Dwarfs (1937)', 'All Dogs Go to Heaven 2 (1996)', 'Cinderella (1950)', 'Alice in Wonderland (1951)', 'Fantasia (1940)']\n",
      "=====================================================\n",
      "Testing : Specialist, The (1994)\n",
      "['Under Siege (1992)', 'Steel (1997)', 'Sudden Death (1995)', 'Striking Distance (1993)', \"Jackie Chan's First Strike (1996)\"]\n",
      "=====================================================\n",
      "Testing : How to Make an American Quilt (1995)\n",
      "['Angels and Insects (1995)', 'Mad Love (1995)', 'Phenomenon (1996)', \"Breakfast at Tiffany's (1961)\", 'Graduate, The (1967)']\n",
      "=====================================================\n",
      "Testing : Second Jungle Book: Mowgli & Baloo, The (1997)\n",
      "['Homeward Bound: The Incredible Journey (1993)', 'Fly Away Home (1996)', 'Black Beauty (1994)', 'Fly Away Home (1996)', 'Swiss Family Robinson (1960)']\n",
      "=====================================================\n",
      "Testing : Free Willy (1993)\n",
      "['Free Willy (1993)', 'Free Willy 3: The Rescue (1997)', 'Buddy (1997)', 'Wizard of Oz, The (1939)', 'Flipper (1996)']\n",
      "=====================================================\n",
      "Testing : Man of the House (1995)\n",
      "['Birdcage, The (1996)', 'Brothers McMullen, The (1995)', 'To Wong Foo, Thanks for Everything! Julie Newmar (1995)', 'Billy Madison (1995)', 'Clerks (1994)']\n",
      "=====================================================\n",
      "Testing : Wedding Gift, The (1994)\n",
      "['Dead Man Walking (1995)', \"Mr. Holland's Opus (1995)\", 'White Balloon, The (1995)', \"Antonia's Line (1995)\", 'Belle de jour (1967)']\n",
      "=====================================================\n",
      "Testing : Top Hat (1935)\n",
      "['Grease (1978)', 'Gay Divorcee, The (1934)', 'Grease 2 (1982)', 'Top Hat (1935)', 'Shall We Dance? (1937)']\n",
      "=====================================================\n"
     ]
    }
   ],
   "source": [
    "import random\n",
    "\n",
    "random_movies = movies.sample(n=10, random_state=random.randint(0, 1000)) \n",
    "\n",
    "# Print the titles\n",
    "for movie_test in random_movies['title']:\n",
    "    print(\"Testing : \" + movie_test)\n",
    "    print(recommend_movies(movie_test,movies,similarity_matrix))\n",
    "    print(\"=====================================================\")"
   ]
  },
  {
   "cell_type": "code",
   "execution_count": null,
   "metadata": {},
   "outputs": [],
   "source": []
  },
  {
   "cell_type": "code",
   "execution_count": null,
   "metadata": {},
   "outputs": [],
   "source": []
  }
 ],
 "metadata": {
  "kernelspec": {
   "display_name": "base",
   "language": "python",
   "name": "python3"
  },
  "language_info": {
   "codemirror_mode": {
    "name": "ipython",
    "version": 3
   },
   "file_extension": ".py",
   "mimetype": "text/x-python",
   "name": "python",
   "nbconvert_exporter": "python",
   "pygments_lexer": "ipython3",
   "version": "3.12.4"
  }
 },
 "nbformat": 4,
 "nbformat_minor": 2
}
