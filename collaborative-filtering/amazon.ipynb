{
 "cells": [
  {
   "cell_type": "markdown",
   "metadata": {},
   "source": [
    "## Collaborative Filtering for Amazon Products\n",
    "\n",
    "**Based on:** [Collaborative Filtering for Movie Recommendations](https://keras.io/examples/structured_data/collaborative_filtering_movielens/) by [Siddhartha Banerjee](https://twitter.com/sidd2006)<br>\n",
    "**Author:** Nathan Pannell<br>\n",
    "**Date created:** 2025/02/27<br>\n",
    "**Description:** Recommending Amazon products with category agnositic collaborative filtering.<br>\n",
    "**Dataset:** *Amazon Reviews 2023* from [McAuley Lab](https://huggingface.co/datasets/McAuley-Lab/Amazon-Reviews-2023)"
   ]
  },
  {
   "cell_type": "code",
   "execution_count": 1,
   "metadata": {},
   "outputs": [],
   "source": [
    "import pandas as pd\n",
    "import numpy as np\n",
    "import matplotlib.pyplot as plt\n",
    "\n",
    "import keras\n",
    "from keras import layers\n",
    "from keras import ops\n",
    "\n",
    "import datasets\n",
    "datasets.logging.set_verbosity_error()"
   ]
  },
  {
   "cell_type": "markdown",
   "metadata": {},
   "source": [
    "### Category Selection\n",
    "\n",
    "The Amazon Reviews 2023 dataset contains product reviews across many different categories.<br>\n",
    "To make the dataset more manageable in size, only a single category is considered at a time.<br>\n",
    "\n",
    "The selected category's dataset is loaded from Hugging Face.<br>\n",
    "**NOTE:** This is not the raw dataset, it is preprocessed to model a 5-degenerate graph (each item has at least 5 interactions)<br>\n",
    "\n",
    "Resources:\n",
    "- [Graph Degeneracy](https://en.wikipedia.org/wiki/Degeneracy_(graph_theory))\n",
    "- [Preprocessed Dataset](https://amazon-reviews-2023.github.io/data_processing/5core.html)\n"
   ]
  },
  {
   "cell_type": "code",
   "execution_count": 2,
   "metadata": {},
   "outputs": [],
   "source": [
    "AVAILABLE_CATEGORIES = [\n",
    "    'All_Beauty', 'Arts_Crafts_and_Sewing', 'Automotive', \n",
    "    'Baby_Products', 'Beauty_and_Personal_Care', 'Books', \n",
    "    'CDs_and_Vinyl', 'Cell_Phones_and_Accessories', 'Clothing_Shoes_and_Jewelry', \n",
    "    'Electronics', 'Gift_Cards', 'Grocery_and_Gourmet_Food', 'Health_and_Household', \n",
    "    'Home_and_Kitchen', 'Industrial_and_Scientific', 'Kindle_Store', \n",
    "    'Magazine_Subscriptions', 'Movies_and_TV', 'Musical_Instruments', \n",
    "    'Office_Products', 'Patio_Lawn_and_Garden', 'Pet_Supplies', \n",
    "    'Software', 'Sports_and_Outdoors', 'Tools_and_Home_Improvement', \n",
    "    'Toys_and_Games', 'Unknown', 'Video_Games'\n",
    "]\n",
    "\n",
    "SELECTED_CATEGORY = 'Magazine_Subscriptions'\n",
    "\n",
    "dataset = datasets.load_dataset(\"McAuley-Lab/Amazon-Reviews-2023\", \"5core_rating_only_\" + SELECTED_CATEGORY, trust_remote_code=True)\n",
    "df = dataset['full'].to_pandas()"
   ]
  },
  {
   "cell_type": "markdown",
   "metadata": {},
   "source": [
    "### Data preprocessing\n",
    "\n",
    "A few steps are needed before creating the matrix factorization embedding\n",
    "- Map user_ids (Ex. `AEVPPTMG43C6GWSR7I2UGRQN7WFQ`) to integers\n",
    "- Map product_ids, referred to as parent_asin, (Ex. `B09WMQ6DXG`) to integers\n",
    "- Normalize ratings to `[0, 1]`\n",
    "- Use a 90/10 train/validation split"
   ]
  },
  {
   "cell_type": "code",
   "execution_count": 3,
   "metadata": {},
   "outputs": [
    {
     "name": "stdout",
     "output_type": "stream",
     "text": [
      "Users       :        30\n",
      "Products    :        21\n",
      "Reviews     :       176\n",
      "Rating range: 1.0 - 5.0\n",
      "\n",
      "5.866667 reviews per user\n",
      "8.380952 reviews per product\n"
     ]
    }
   ],
   "source": [
    "user_ids = df['user_id'].unique().tolist()\n",
    "encode_user = {x: i for i, x in enumerate(user_ids)}\n",
    "decode_user = {i: x for i, x in enumerate(user_ids)}\n",
    "\n",
    "product_ids = df['parent_asin'].unique().tolist()\n",
    "encode_product = {x: i for i, x in enumerate(product_ids)}\n",
    "decode_product = {i: x for i, x in enumerate(product_ids)}\n",
    "\n",
    "df[\"user\"] = df[\"user_id\"].map(encode_user)\n",
    "df[\"product\"] = df[\"parent_asin\"].map(encode_product)\n",
    "\n",
    "df[\"rating\"] = df[\"rating\"].values.astype(np.float32)\n",
    "\n",
    "\n",
    "# Statistical summary of data\n",
    "min_rating = min(df[\"rating\"])\n",
    "max_rating = max(df[\"rating\"])\n",
    "num_users = len(user_ids)\n",
    "num_products = len(product_ids)\n",
    "num_reviews = len(df)\n",
    "\n",
    "print(f'Users       : {num_users:9,d}')\n",
    "print(f'Products    : {num_products:9,d}')\n",
    "print(f'Reviews     : {num_reviews:9,d}')\n",
    "print(f'Rating range: {min_rating} - {max_rating}')\n",
    "print()\n",
    "print(f'{num_reviews/num_users:f} reviews per user')\n",
    "print(f'{num_reviews/num_products:f} reviews per product')"
   ]
  },
  {
   "cell_type": "code",
   "execution_count": 4,
   "metadata": {},
   "outputs": [
    {
     "name": "stdout",
     "output_type": "stream",
     "text": [
      "x_train.shape=(158, 2) y_train.shape=(158,)\n",
      "x_val.shape=(18, 2) y_val.shape=(18,)\n"
     ]
    }
   ],
   "source": [
    "df = df.sample(frac=1, random_state=0)\n",
    "x = df[[\"user\", \"product\"]].values\n",
    "y = df[\"rating\"].apply(lambda x: (x - min_rating) / (max_rating - min_rating)).values\n",
    "\n",
    "train_indices = int(0.9 * df.shape[0])\n",
    "x_train, x_val, y_train, y_val = (\n",
    "    x[:train_indices],\n",
    "    x[train_indices:],\n",
    "    y[:train_indices],\n",
    "    y[train_indices:],\n",
    ")\n",
    "\n",
    "print(f'{x_train.shape=} {y_train.shape=}')\n",
    "print(f'{x_val.shape=} {y_val.shape=}')"
   ]
  },
  {
   "cell_type": "markdown",
   "metadata": {},
   "source": [
    "### Create the model\n",
    "\n",
    "Uses 50-dimensional embedding vectors for both users and products.\n",
    "\n",
    "Uses a dot product of the embedding vectors, in addition to a product-bias and user-bias.\n",
    "\n",
    "Predicted score is scaled to `[0, 1]` via sigmoid."
   ]
  },
  {
   "cell_type": "code",
   "execution_count": 5,
   "metadata": {},
   "outputs": [],
   "source": [
    "EMBEDDING_SIZE = 50\n",
    "\n",
    "\n",
    "class RecommenderNet(keras.Model):\n",
    "    def __init__(self, num_users, num_products, embedding_size, **kwargs):\n",
    "        super().__init__(**kwargs)\n",
    "        self.num_users = num_users\n",
    "        self.num_products = num_products\n",
    "        self.embedding_size = embedding_size\n",
    "        self.user_embedding = layers.Embedding(\n",
    "            num_users,\n",
    "            embedding_size,\n",
    "            embeddings_initializer=\"he_normal\",\n",
    "            embeddings_regularizer=keras.regularizers.l2(1e-6),\n",
    "        )\n",
    "        self.user_bias = layers.Embedding(num_users, 1)\n",
    "        self.product_embedding = layers.Embedding(\n",
    "            num_products,\n",
    "            embedding_size,\n",
    "            embeddings_initializer=\"he_normal\",\n",
    "            embeddings_regularizer=keras.regularizers.l2(1e-6),\n",
    "        )\n",
    "        self.product_bias = layers.Embedding(num_products, 1)\n",
    "\n",
    "    def call(self, inputs):\n",
    "        user_vector = self.user_embedding(inputs[:, 0])\n",
    "        user_bias = self.user_bias(inputs[:, 0])\n",
    "        product_vector = self.product_embedding(inputs[:, 1])\n",
    "        product_bias = self.product_bias(inputs[:, 1])\n",
    "\n",
    "        dot_user_product = ops.tensordot(user_vector, product_vector, 2)\n",
    "        a = dot_user_product + user_bias + product_bias\n",
    "        \n",
    "        return ops.nn.sigmoid(a)\n",
    "\n",
    "\n",
    "model = RecommenderNet(num_users, num_products, EMBEDDING_SIZE)\n",
    "model.compile(\n",
    "    loss=keras.losses.BinaryCrossentropy(),\n",
    "    optimizer=keras.optimizers.Adam(learning_rate=0.001),\n",
    ")"
   ]
  },
  {
   "cell_type": "markdown",
   "metadata": {},
   "source": [
    "### Train the model and plot training loss"
   ]
  },
  {
   "cell_type": "code",
   "execution_count": 6,
   "metadata": {},
   "outputs": [
    {
     "name": "stdout",
     "output_type": "stream",
     "text": [
      "Epoch 1/5\n",
      "\u001b[1m3/3\u001b[0m \u001b[32m━━━━━━━━━━━━━━━━━━━━\u001b[0m\u001b[37m\u001b[0m \u001b[1m2s\u001b[0m 164ms/step - loss: 3.1557 - val_loss: 0.5786\n",
      "Epoch 2/5\n",
      "\u001b[1m3/3\u001b[0m \u001b[32m━━━━━━━━━━━━━━━━━━━━\u001b[0m\u001b[37m\u001b[0m \u001b[1m0s\u001b[0m 38ms/step - loss: 2.9960 - val_loss: 0.5809\n",
      "Epoch 3/5\n",
      "\u001b[1m3/3\u001b[0m \u001b[32m━━━━━━━━━━━━━━━━━━━━\u001b[0m\u001b[37m\u001b[0m \u001b[1m0s\u001b[0m 32ms/step - loss: 1.3297 - val_loss: 0.5830\n",
      "Epoch 4/5\n",
      "\u001b[1m3/3\u001b[0m \u001b[32m━━━━━━━━━━━━━━━━━━━━\u001b[0m\u001b[37m\u001b[0m \u001b[1m0s\u001b[0m 33ms/step - loss: 0.7660 - val_loss: 0.5851\n",
      "Epoch 5/5\n",
      "\u001b[1m3/3\u001b[0m \u001b[32m━━━━━━━━━━━━━━━━━━━━\u001b[0m\u001b[37m\u001b[0m \u001b[1m0s\u001b[0m 30ms/step - loss: 0.8822 - val_loss: 0.5868\n"
     ]
    }
   ],
   "source": [
    "history = model.fit(\n",
    "    x=x_train,\n",
    "    y=y_train,\n",
    "    batch_size=64,\n",
    "    epochs=5,\n",
    "    verbose=1,\n",
    "    validation_data=(x_val, y_val),\n",
    ")"
   ]
  },
  {
   "cell_type": "code",
   "execution_count": 7,
   "metadata": {},
   "outputs": [
    {
     "data": {
      "image/png": "[encoded data removed]",
      "text/plain": [
       "<Figure size 640x480 with 1 Axes>"
      ]
     },
     "metadata": {},
     "output_type": "display_data"
    }
   ],
   "source": [
    "plt.plot(history.history[\"loss\"])\n",
    "plt.plot(history.history[\"val_loss\"])\n",
    "plt.title(\"model loss\")\n",
    "plt.ylabel(\"loss\")\n",
    "plt.xlabel(\"epoch\")\n",
    "plt.legend([\"train\", \"test\"], loc=\"upper left\")\n",
    "plt.show()"
   ]
  },
  {
   "cell_type": "markdown",
   "metadata": {},
   "source": [
    "### Evaluate model accuracy by recommending items\n",
    "\n",
    "We start by importing item metadata and selecting a random user. This metadata includes titles and subcategories for each product.\n",
    "\n",
    "By checking which items have an embedding but haven't been rated by the user, we can make predictions about what they might rate each unseen item.\n",
    "\n",
    "Finally, by presenting the 10 elements with the highest predicted rating, we can recommend products the user may like. :)\n",
    "\n",
    "#### Extensions to this recommendation strategy\n",
    "\n",
    "- Use probabilistic selection. By sampling based on predicted ratings, with higher matches more likely to be recommended, the RS can decrease the strong bias for selecting the highest rated items.\n",
    "- Add a 'average product rating' penalty. This can increase the diversity of recommendations by selecting less popular, but potentially more relevant products for a user based on their niche."
   ]
  },
  {
   "cell_type": "code",
   "execution_count": 8,
   "metadata": {},
   "outputs": [
    {
     "name": "stdout",
     "output_type": "stream",
     "text": [
      "\u001b[1m1/1\u001b[0m \u001b[32m━━━━━━━━━━━━━━━━━━━━\u001b[0m\u001b[37m\u001b[0m \u001b[1m0s\u001b[0m 122ms/step\n",
      "Products with high ratings from user\n",
      "--------------------------------\n",
      "Martha Stewart Living    Print Magazine\n",
      "Taste of Home    Print Magazine\n",
      "Good Housekeeping    Print Magazine\n",
      "Family Handyman    Print Magazine\n",
      "Southern Living    Print Magazine\n",
      "--------------------------------\n",
      "Top 10 product recommendations\n",
      "--------------------------------\n",
      "Women's Health    Print Magazine\n",
      "Popular Mechanics    Print Magazine\n",
      "HGTV Magazine    Print Magazine\n",
      "O, The Oprah Magazine    Print Magazine\n",
      "House Beautiful    Print Magazine\n",
      "Reader's Digest    Print Magazine\n",
      "Food Network Magazine    Print Magazine\n",
      "Woman's Day    Print Magazine\n",
      "Do it Yourself    Print Magazine\n",
      "Popular Science    Print Magazine\n"
     ]
    }
   ],
   "source": [
    "meta = datasets.load_dataset(\"McAuley-Lab/Amazon-Reviews-2023\", \"raw_meta_\" + SELECTED_CATEGORY, split=\"full\", trust_remote_code=True)\n",
    "meta_df = meta.to_pandas()\n",
    "\n",
    "user_id = df.user_id.sample(1).iloc[0]\n",
    "user_activity = df[df.user_id == user_id] # list of reviews by user\n",
    "unseen_products = meta_df[~meta_df['parent_asin'].isin(user_activity.parent_asin.values)]['parent_asin']\n",
    "unseen_products = list(set(unseen_products).intersection(set(encode_product.keys()))) # discard products we don't have an embedding for\n",
    "unseen_products = [[encode_product.get(x)] for x in unseen_products]\n",
    "user_index = encode_user.get(user_id)\n",
    "\n",
    "user_product_array = np.hstack(\n",
    "    ([[user_index]] * len(unseen_products), unseen_products)\n",
    ")\n",
    "ratings = model.predict(user_product_array).flatten()\n",
    "top_ratings_indices = ratings.argsort()[-10:][::-1]\n",
    "recommended_product_ids = [decode_product.get(unseen_products[x][0]) for x in top_ratings_indices]\n",
    "\n",
    "print(\"Products with high ratings from user\")\n",
    "print(\"-\" * 32)\n",
    "top_products_user = (\n",
    "    user_activity.sort_values(by=\"rating\", ascending=False)\n",
    "    .head(5)\n",
    "    .parent_asin.values\n",
    ")\n",
    "meta_df_rows = meta_df[meta_df[\"parent_asin\"].isin(top_products_user)]\n",
    "for row in meta_df_rows.itertuples():\n",
    "    print(row.title)\n",
    "\n",
    "print(\"-\" * 32)\n",
    "print(\"Top 10 product recommendations\")\n",
    "print(\"-\" * 32)\n",
    "recommended_products = meta_df[meta_df[\"parent_asin\"].isin(recommended_product_ids)]\n",
    "for row in recommended_products.itertuples():\n",
    "    print(row.title)"
   ]
  }
 ],
 "metadata": {
  "kernelspec": {
   "display_name": "base",
   "language": "python",
   "name": "python3"
  },
  "language_info": {
   "codemirror_mode": {
    "name": "ipython",
    "version": 3
   },
   "file_extension": ".py",
   "mimetype": "text/x-python",
   "name": "python",
   "nbconvert_exporter": "python",
   "pygments_lexer": "ipython3",
   "version": "3.11.7"
  }
 },
 "nbformat": 4,
 "nbformat_minor": 2
}
